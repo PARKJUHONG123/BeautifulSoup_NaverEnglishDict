{
 "cells": [
  {
   "cell_type": "markdown",
   "metadata": {},
   "source": [
    "# 웹 크롤링 함수"
   ]
  },
  {
   "cell_type": "code",
   "execution_count": 1,
   "metadata": {},
   "outputs": [],
   "source": [
    "import requests\n",
    "from bs4 import BeautifulSoup\n",
    "\n",
    "def naver_dict_search(text):\n",
    "    url = \"https://endic.naver.com/search.nhn?searchOption=all&query=\" + text + \"&forceRedirect=N&isOnlyViewEE=N&sLn=kr&oldUser\"\n",
    "    req = requests.get(url)\n",
    "    resp = req.text\n",
    "    soup = BeautifulSoup(resp, \"html.parser\") \n",
    "    info_list = soup.select('div > dl > dd > div > p > span.fnt_k05')\n",
    "    if (len(info_list) != 0):\n",
    "        result = \"\"\n",
    "        for i in range(len(info_list)):\n",
    "            temp = \"\"\n",
    "            temp = \" \".join((info_list[i].text).split())\n",
    "            result = result + temp + \" || \"\n",
    "        return result\n",
    "    else:\n",
    "        print(text + \" 에 오탈자가 존재합니다\")\n",
    "        return \"null\""
   ]
  },
  {
   "cell_type": "markdown",
   "metadata": {},
   "source": [
    "# 문제 만들기"
   ]
  },
  {
   "cell_type": "code",
   "execution_count": 2,
   "metadata": {},
   "outputs": [
    {
     "name": "stdout",
     "output_type": "stream",
     "text": [
      "시작하는 날짜를 입력하세요 : 37\n",
      "마지막 날짜를 입력하세요 : 39\n"
     ]
    }
   ],
   "source": [
    "start_day = input(\"시작하는 날짜를 입력하세요 : \")\n",
    "end_day = input(\"마지막 날짜를 입력하세요 : \")\n",
    "total_day = int(end_day) - int(start_day) + 1\n",
    "\n",
    "lines = list()\n",
    "\n",
    "for i in range(total_day):\n",
    "    fp = open(\"날짜별\\\\\" + str(int(start_day) + i) + \".txt\", \"r\", -1, \"utf-8\")\n",
    "    lines = lines + fp.readlines()\n",
    "    fp.close()\n",
    "\n",
    "ft = open(\"test.txt\", \"w\", -1, \"utf-8\")\n",
    "fa = open(\"answer.txt\", \"w\", -1, \"utf-8\")\n",
    "\n",
    "from random import *\n",
    "random_number = []\n",
    "count = 0\n",
    "for i in range(len(lines)):\n",
    "    random_number.append(i)\n",
    "\n",
    "while True:\n",
    "    if (count == len(lines)) :\n",
    "        break\n",
    "    random_standard = randint(count, len(lines) - 1)\n",
    "    if (random_number[random_standard] != -1):\n",
    "        line_number = random_number[random_standard]\n",
    "        line_word = lines[line_number].rstrip()\n",
    "        translate_word = naver_dict_search(line_word)\n",
    "        ft.write(str(count + 1) + \". \" + line_word + \" = \\n\")\n",
    "        fa.write(str(count + 1) + \". \" + line_word + \" = \" + translate_word + \"\\n\")\n",
    "        random_number[random_standard] = -1\n",
    "        random_number.sort()\n",
    "        count = count + 1\n",
    "\n",
    "ft.close()\n",
    "fa.close()"
   ]
  },
  {
   "cell_type": "markdown",
   "metadata": {},
   "source": [
    "# 날짜 미입력시 필요 구문"
   ]
  },
  {
   "cell_type": "code",
   "execution_count": 1,
   "metadata": {},
   "outputs": [
    {
     "name": "stdout",
     "output_type": "stream",
     "text": [
      "시작하는 날짜를 입력하세요 : 36\n",
      "마지막 날짜를 입력하세요 : 38\n"
     ]
    }
   ],
   "source": [
    "start_day = input(\"시작하는 날짜를 입력하세요 : \")\n",
    "end_day = input(\"마지막 날짜를 입력하세요 : \")\n",
    "total_day = int(end_day) - int(start_day) + 1"
   ]
  },
  {
   "cell_type": "markdown",
   "metadata": {},
   "source": [
    "# 오답문제 입력하기"
   ]
  },
  {
   "cell_type": "code",
   "execution_count": 2,
   "metadata": {},
   "outputs": [
    {
     "name": "stdout",
     "output_type": "stream",
     "text": [
      "틀린 번호를 입력하세요 (없으면 -1) : 8\n",
      "틀린 번호를 입력하세요 (없으면 -1) : 42\n",
      "틀린 번호를 입력하세요 (없으면 -1) : 64\n",
      "틀린 번호를 입력하세요 (없으면 -1) : 67\n",
      "틀린 번호를 입력하세요 (없으면 -1) : 90\n",
      "틀린 번호를 입력하세요 (없으면 -1) : 91\n",
      "틀린 번호를 입력하세요 (없으면 -1) : 122\n",
      "틀린 번호를 입력하세요 (없으면 -1) : 130\n",
      "틀린 번호를 입력하세요 (없으면 -1) : 164\n",
      "틀린 번호를 입력하세요 (없으면 -1) : 166\n",
      "틀린 번호를 입력하세요 (없으면 -1) : 170\n",
      "틀린 번호를 입력하세요 (없으면 -1) : 184\n",
      "틀린 번호를 입력하세요 (없으면 -1) : 185\n",
      "틀린 번호를 입력하세요 (없으면 -1) : -1\n"
     ]
    }
   ],
   "source": [
    "from datetime import datetime\n",
    "now = datetime.now()\n",
    "\n",
    "ft = open(\"test.txt\", \"r\", -1, \"utf-8\")\n",
    "fa = open(\"answer.txt\", \"r\", -1, \"utf-8\")\n",
    "fw = open(\"오답문제\\\\\" + \"wrong.txt\", \"a\", -1, \"utf-8\")\n",
    "fwa = open(\"오답문제\\\\\" + \"wrong_answer.txt\", \"a\", -1, \"utf-8\")\n",
    "\n",
    "test_lines = ft.readlines()\n",
    "answer_lines = fa.readlines()\n",
    "\n",
    "fw.write(\"-------------------------------------------------------------------------------------------------------------------\\n\")\n",
    "fw.write(str(now.year) + \"-\" + str(now.month) + \"-\" + str(now.day) + \"   [\" + start_day + \" ~ \" + end_day + \"일차 오답]\" + \"\\n\")\n",
    "fw.write(\"-------------------------------------------------------------------------------------------------------------------\\n\")\n",
    "\n",
    "fwa.write(\"-------------------------------------------------------------------------------------------------------------------\\n\")\n",
    "fwa.write(str(now.year) + \"-\" + str(now.month) + \"-\" + str(now.day) + \"   [\" + start_day + \" ~ \" + end_day + \"일차 오답 정답]\" + \"\\n\")\n",
    "fwa.write(\"-------------------------------------------------------------------------------------------------------------------\\n\")\n",
    "\n",
    "while True:\n",
    "    wrong_number = input(\"틀린 번호를 입력하세요 (없으면 -1) : \")\n",
    "    \n",
    "    if (wrong_number == '-1'):\n",
    "        break\n",
    "    else :\n",
    "        fw.write(test_lines[int(wrong_number) - 1])\n",
    "        fwa.write(answer_lines[int(wrong_number) - 1])\n",
    "        \n",
    "fw.write(\"\\n\")\n",
    "fwa.write(\"\\n\")\n",
    "\n",
    "ft.close()\n",
    "fa.close()\n",
    "fw.close()\n",
    "fwa.close()"
   ]
  },
  {
   "cell_type": "markdown",
   "metadata": {},
   "source": [
    "# 오답 문제나온 날짜 확인하기"
   ]
  },
  {
   "cell_type": "code",
   "execution_count": 3,
   "metadata": {},
   "outputs": [
    {
     "name": "stdout",
     "output_type": "stream",
     "text": [
      "총 3개의 단어가 Day 36에 속한다\n",
      "dignity\n",
      "crude\n",
      "hit it off\n",
      "\n",
      "\n",
      "총 5개의 단어가 Day 37에 속한다\n",
      "malicious\n",
      "tactile\n",
      "maturity\n",
      "resonate\n",
      "innocent\n",
      "\n",
      "\n",
      "총 5개의 단어가 Day 38에 속한다\n",
      "animosity\n",
      "congenial\n",
      "antagonistic\n",
      "mutilate\n",
      "marshal\n",
      "\n",
      "\n"
     ]
    }
   ],
   "source": [
    "fw = open(\"오답문제\\\\\" + \"wrong.txt\", \"r\", -1, \"utf-8\")\n",
    "\n",
    "fp = list(range(total_day))\n",
    "for i in range(total_day):\n",
    "    fp[i] = open(\"날짜별\\\\\" + str(int(start_day) + i) + \".txt\", \"r\", -1, \"utf-8\")\n",
    "    \n",
    "count = 0\n",
    "wrong_lines = fw.readlines()\n",
    "\n",
    "for lines in wrong_lines:\n",
    "    count = count + 1\n",
    "    if (lines.find(start_day + \" ~ \" + end_day + \"일차 오답]\") != -1):\n",
    "        count = count + 1\n",
    "        break\n",
    "\n",
    "wrong_word_list = []\n",
    "for i in range(count, len(wrong_lines) - 1):    \n",
    "    wrong_start = wrong_lines[i].find('.') + 2\n",
    "    wrong_end = wrong_lines[i].find('=') - 1\n",
    "    wrong_word = (wrong_lines[i])[wrong_start:wrong_end]\n",
    "    wrong_word_list.append(wrong_word)\n",
    "\n",
    "day_word_list = []\n",
    "for i in range(total_day):\n",
    "    for lines in fp[i].readlines():\n",
    "        for j in range(len(wrong_word_list)):\n",
    "            if (lines.find(wrong_word_list[j]) != -1):\n",
    "                day_word_list.append(wrong_word_list[j] + \"\\n\")\n",
    "    print(\"총 \" + str(len(day_word_list)) + \"개의 단어가 Day \" + str(int(start_day) + i) + \"에 속한다\")\n",
    "    print(\"\".join(day_word_list) + \"\\n\")\n",
    "    day_word_list = []\n",
    "\n",
    "fw.close()\n",
    "for i in range(total_day):\n",
    "    fp[i].close()"
   ]
  }
 ],
 "metadata": {
  "kernelspec": {
   "display_name": "Python 3",
   "language": "python",
   "name": "python3"
  },
  "language_info": {
   "codemirror_mode": {
    "name": "ipython",
    "version": 3
   },
   "file_extension": ".py",
   "mimetype": "text/x-python",
   "name": "python",
   "nbconvert_exporter": "python",
   "pygments_lexer": "ipython3",
   "version": "3.7.3"
  }
 },
 "nbformat": 4,
 "nbformat_minor": 2
}
